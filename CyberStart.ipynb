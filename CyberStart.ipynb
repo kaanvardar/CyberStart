{
  "nbformat": 4,
  "nbformat_minor": 0,
  "metadata": {
    "colab": {
      "provenance": [],
      "authorship_tag": "ABX9TyOp9nBHxK8Idr7UQWih7wB3"
    },
    "kernelspec": {
      "name": "python3",
      "display_name": "Python 3"
    },
    "language_info": {
      "name": "python"
    }
  },
  "cells": [
    {
      "cell_type": "code",
      "source": [
        "string = \"tststststts\"\n",
        "len(string)"
      ],
      "metadata": {
        "colab": {
          "base_uri": "https://localhost:8080/"
        },
        "id": "WRTUmP0h65V3",
        "outputId": "8eb90d6b-5fbe-49a4-cef4-a9f66b5343a5"
      },
      "execution_count": null,
      "outputs": [
        {
          "output_type": "execute_result",
          "data": {
            "text/plain": [
              "22"
            ]
          },
          "metadata": {},
          "execution_count": 11
        }
      ]
    },
    {
      "cell_type": "code",
      "source": [
        "msg = \"hello\"\n",
        "name = \"kaan\"\n",
        "welcome = msg +  name\n",
        "print(welcome)"
      ],
      "metadata": {
        "colab": {
          "base_uri": "https://localhost:8080/"
        },
        "id": "c2QO9pvD6XJU",
        "outputId": "47a07dcb-b205-4207-b81a-fee0657e7379"
      },
      "execution_count": null,
      "outputs": [
        {
          "output_type": "stream",
          "name": "stdout",
          "text": [
            "hellokaan\n"
          ]
        }
      ]
    },
    {
      "cell_type": "code",
      "source": [
        "string = ['K','A','A','N']\n",
        "print(string[3])"
      ],
      "metadata": {
        "colab": {
          "base_uri": "https://localhost:8080/"
        },
        "id": "e_bCdodd7Ku2",
        "outputId": "2358f309-d2d8-44ad-b474-cf79407ba139"
      },
      "execution_count": null,
      "outputs": [
        {
          "output_type": "stream",
          "name": "stdout",
          "text": [
            "N\n"
          ]
        }
      ]
    },
    {
      "cell_type": "code",
      "source": [
        "string = ['K','A','A','N']\n",
        "string[2] = 'C'\n",
        "print(string)"
      ],
      "metadata": {
        "colab": {
          "base_uri": "https://localhost:8080/"
        },
        "id": "AaADrQRu8tPl",
        "outputId": "e5acebf4-5f13-4a80-c27c-d9cb1763ca66"
      },
      "execution_count": null,
      "outputs": [
        {
          "output_type": "stream",
          "name": "stdout",
          "text": [
            "['K', 'A', 'C', 'N']\n"
          ]
        }
      ]
    },
    {
      "cell_type": "code",
      "source": [
        "string = 'kaanvardar'\n",
        "string[1:3] #start from 1st index include it, dont include last index (3)"
      ],
      "metadata": {
        "colab": {
          "base_uri": "https://localhost:8080/",
          "height": 35
        },
        "id": "iXh45pK58-24",
        "outputId": "e137fd60-6bc5-47ae-89c8-fe0e8f195469"
      },
      "execution_count": null,
      "outputs": [
        {
          "output_type": "execute_result",
          "data": {
            "text/plain": [
              "'aa'"
            ],
            "application/vnd.google.colaboratory.intrinsic+json": {
              "type": "string"
            }
          },
          "metadata": {},
          "execution_count": 24
        }
      ]
    },
    {
      "cell_type": "code",
      "source": [
        "string = 'kaanvardar'\n",
        "string[10:0:-2] #10dan geriye -2 azalarak git"
      ],
      "metadata": {
        "colab": {
          "base_uri": "https://localhost:8080/",
          "height": 35
        },
        "id": "zxfyaoUG9g8J",
        "outputId": "14bede1c-d029-4956-cdd8-ed2cafde907a"
      },
      "execution_count": null,
      "outputs": [
        {
          "output_type": "execute_result",
          "data": {
            "text/plain": [
              "'rdana'"
            ],
            "application/vnd.google.colaboratory.intrinsic+json": {
              "type": "string"
            }
          },
          "metadata": {},
          "execution_count": 25
        }
      ]
    },
    {
      "cell_type": "code",
      "source": [
        "string = \"kaanvardar\"\n",
        "string[::2]"
      ],
      "metadata": {
        "colab": {
          "base_uri": "https://localhost:8080/",
          "height": 35
        },
        "id": "X9kX2IV3-QwM",
        "outputId": "d4ca8320-f422-4cd2-bc39-7c3ddd8e4d47"
      },
      "execution_count": null,
      "outputs": [
        {
          "output_type": "execute_result",
          "data": {
            "text/plain": [
              "'ka'"
            ],
            "application/vnd.google.colaboratory.intrinsic+json": {
              "type": "string"
            }
          },
          "metadata": {},
          "execution_count": 27
        }
      ]
    },
    {
      "cell_type": "code",
      "source": [
        "x = int(input(\"enter a number: \"))\n",
        "\n",
        "if(x % 3 == 0) and (x % 2 ==  0):   #ikiside TRUE olursa bu if bloğu çalışır(and)\n",
        "  print(\"number can divide 3 also 2\")\n",
        "else:\n",
        "   print(\"end\")"
      ],
      "metadata": {
        "colab": {
          "base_uri": "https://localhost:8080/"
        },
        "id": "qee9BOZMBxsA",
        "outputId": "5f8e6e82-5b9a-49fa-b0a3-b51ab8926549"
      },
      "execution_count": null,
      "outputs": [
        {
          "output_type": "stream",
          "name": "stdout",
          "text": [
            "enter a number: 8\n",
            "end\n"
          ]
        }
      ]
    },
    {
      "cell_type": "code",
      "source": [
        "x = int(input(\"enter a number: \"))\n",
        "\n",
        "if(x % 3 == 0) & (x % 2 ==  0):   #ikiside TRUE olursa bu if bloğu çalışır(&)\n",
        "  print(\"number can divide 3 also 2\")\n",
        "else:\n",
        "   print(\"end\")"
      ],
      "metadata": {
        "colab": {
          "base_uri": "https://localhost:8080/"
        },
        "id": "-ktA4czjCcGk",
        "outputId": "e40a10da-cf4d-4576-bc83-1ccf0e89cc69"
      },
      "execution_count": null,
      "outputs": [
        {
          "output_type": "stream",
          "name": "stdout",
          "text": [
            "enter a number: 8\n",
            "end\n"
          ]
        }
      ]
    },
    {
      "cell_type": "code",
      "source": [
        "x = 0\n",
        "\n",
        "while x<7:\n",
        "  x = x + 1\n",
        "  print(x)\n",
        "\n"
      ],
      "metadata": {
        "colab": {
          "base_uri": "https://localhost:8080/"
        },
        "id": "s-E6QB2hC-2x",
        "outputId": "e3ed6697-3bae-40e0-a6b5-c89089b3f026"
      },
      "execution_count": null,
      "outputs": [
        {
          "output_type": "stream",
          "name": "stdout",
          "text": [
            "1\n",
            "2\n",
            "3\n",
            "4\n",
            "5\n",
            "6\n",
            "7\n"
          ]
        }
      ]
    },
    {
      "cell_type": "code",
      "source": [
        "x = 0\n",
        "\n",
        "while x<7:\n",
        "  x += 1\n",
        "  print(x)\n",
        "\n"
      ],
      "metadata": {
        "colab": {
          "base_uri": "https://localhost:8080/"
        },
        "id": "8KK7_0VvDX6Y",
        "outputId": "349495e2-8448-4cd2-9c1d-5be9fcf0314e"
      },
      "execution_count": null,
      "outputs": [
        {
          "output_type": "stream",
          "name": "stdout",
          "text": [
            "1\n",
            "2\n",
            "3\n",
            "4\n",
            "5\n",
            "6\n",
            "7\n"
          ]
        }
      ]
    },
    {
      "cell_type": "code",
      "source": [
        "for i in \"hey\": #hey 3 elemenali oldugu icin 3 kere gerceklesir\n",
        "                # 1. iter c = \"h\"\n",
        "                # 2. iter c = \"e\"\n",
        "                # 3. iter c = \"y\"\n",
        "    print(i)"
      ],
      "metadata": {
        "colab": {
          "base_uri": "https://localhost:8080/"
        },
        "id": "FnGOmLxaEFyH",
        "outputId": "71f07e8c-de1c-4b84-a858-9508aee50369"
      },
      "execution_count": null,
      "outputs": [
        {
          "output_type": "stream",
          "name": "stdout",
          "text": [
            "h\n",
            "e\n",
            "y\n"
          ]
        }
      ]
    },
    {
      "cell_type": "code",
      "source": [
        "sum = 0\n",
        "\n",
        "for i in range(100):\n",
        "  sum += i\n",
        "\n",
        "print(\"total iteration count: \" ,i)\n",
        "print(\"total sum: \" , sum)"
      ],
      "metadata": {
        "colab": {
          "base_uri": "https://localhost:8080/"
        },
        "id": "ha0Ws2MWElYO",
        "outputId": "9504aac1-95a1-4ec3-cd5c-6026d694dabb"
      },
      "execution_count": null,
      "outputs": [
        {
          "output_type": "stream",
          "name": "stdout",
          "text": [
            "total iteration count:  99\n",
            "total sum:  4950\n"
          ]
        }
      ]
    },
    {
      "cell_type": "markdown",
      "source": [
        "**WHILE AND FOR DIFFERENCES**"
      ],
      "metadata": {
        "id": "D1N0iPelGVsT"
      }
    },
    {
      "cell_type": "code",
      "source": [
        "string = \"hey\"\n",
        "\n",
        "for i in \"hey\":\n",
        "  print(i)"
      ],
      "metadata": {
        "colab": {
          "base_uri": "https://localhost:8080/"
        },
        "id": "-LDoM3QHGZlw",
        "outputId": "bc020ac4-0113-441d-c2b2-bc1e9fa5d53b"
      },
      "execution_count": null,
      "outputs": [
        {
          "output_type": "stream",
          "name": "stdout",
          "text": [
            "h\n",
            "e\n",
            "y\n"
          ]
        }
      ]
    },
    {
      "cell_type": "code",
      "source": [
        "string = \"hey\"\n",
        "i = 0\n",
        "\n",
        "while i < len(string):\n",
        "  i += 1\n",
        "  print(i)\n",
        "\n"
      ],
      "metadata": {
        "colab": {
          "base_uri": "https://localhost:8080/"
        },
        "id": "rjs8IwIPGjDh",
        "outputId": "b40a6d60-120e-4d01-ccc6-5e657c288ab0"
      },
      "execution_count": null,
      "outputs": [
        {
          "output_type": "stream",
          "name": "stdout",
          "text": [
            "1\n",
            "2\n",
            "3\n"
          ]
        }
      ]
    },
    {
      "cell_type": "markdown",
      "source": [
        "**---------------------------------------------------------------------------**\n"
      ],
      "metadata": {
        "id": "a32XU5ZKhzOR"
      }
    },
    {
      "cell_type": "markdown",
      "source": [
        "# **MEDIUM-HARD DATA STRUCTURES**"
      ],
      "metadata": {
        "id": "wDDbfb8mhoKc"
      }
    },
    {
      "cell_type": "markdown",
      "source": [
        "**LISTS & ARRAYS**\n",
        "\n"
      ],
      "metadata": {
        "id": "CyHKAQu_p7S-"
      }
    },
    {
      "cell_type": "code",
      "source": [
        "notes = [1,2,3,4,5]\n",
        "notes[3]"
      ],
      "metadata": {
        "colab": {
          "base_uri": "https://localhost:8080/"
        },
        "id": "pXiTKk-ggpPG",
        "outputId": "9abe04b4-8ddb-4402-cc17-6c042d64255c"
      },
      "execution_count": null,
      "outputs": [
        {
          "output_type": "execute_result",
          "data": {
            "text/plain": [
              "4"
            ]
          },
          "metadata": {},
          "execution_count": 1
        }
      ]
    },
    {
      "cell_type": "code",
      "source": [
        "list = [1,2,\"a\",\"b\",True, 4.5, [9,0,6]] #mix type degerleri tutabiliriz"
      ],
      "metadata": {
        "id": "9b6OaTmChJhS"
      },
      "execution_count": null,
      "outputs": []
    },
    {
      "cell_type": "code",
      "source": [
        "notes = [1,2,3,4,7,6,8]\n",
        "notes[0] += 10\n",
        "print(notes[0])"
      ],
      "metadata": {
        "colab": {
          "base_uri": "https://localhost:8080/"
        },
        "id": "C0rPZUKvhl6o",
        "outputId": "799eedd7-da5c-4bd1-9a00-339aec8f22e9"
      },
      "execution_count": null,
      "outputs": [
        {
          "output_type": "stream",
          "name": "stdout",
          "text": [
            "11\n"
          ]
        }
      ]
    },
    {
      "cell_type": "code",
      "source": [
        "len(notes)"
      ],
      "metadata": {
        "colab": {
          "base_uri": "https://localhost:8080/"
        },
        "id": "hSjxkZbuh3Eo",
        "outputId": "6dab7c11-0fe7-4b04-808e-fa2e4c532beb"
      },
      "execution_count": null,
      "outputs": [
        {
          "output_type": "execute_result",
          "data": {
            "text/plain": [
              "7"
            ]
          },
          "metadata": {},
          "execution_count": 7
        }
      ]
    },
    {
      "cell_type": "code",
      "source": [
        "notes.append(99)  #listenin sonuna ekler\n",
        "print(notes)"
      ],
      "metadata": {
        "colab": {
          "base_uri": "https://localhost:8080/"
        },
        "id": "L71J42pCixYQ",
        "outputId": "6f23cf23-8951-4137-f192-b4db26b173dc"
      },
      "execution_count": null,
      "outputs": [
        {
          "output_type": "stream",
          "name": "stdout",
          "text": [
            "[11, 2, 3, 4, 7, 6, 8, 99]\n"
          ]
        }
      ]
    },
    {
      "cell_type": "code",
      "source": [
        "notes.extend([88,77,66])  #listenin sonuna birden fazla eleman ekler\n",
        "print(notes)"
      ],
      "metadata": {
        "colab": {
          "base_uri": "https://localhost:8080/"
        },
        "id": "7FNkUnCJjBcb",
        "outputId": "21c80f44-8e92-4e74-a212-a29d3b60d62d"
      },
      "execution_count": null,
      "outputs": [
        {
          "output_type": "stream",
          "name": "stdout",
          "text": [
            "[11, 2, 3, 4, 7, 6, 8, 99, 88, 77, 66]\n"
          ]
        }
      ]
    },
    {
      "cell_type": "code",
      "source": [
        "notes.insert(3,44)        #3. indexe 44 ekle demek fakat shift right yapar SİLMEZ!\n",
        "print(notes)\n",
        "print(notes[3])"
      ],
      "metadata": {
        "colab": {
          "base_uri": "https://localhost:8080/"
        },
        "id": "i5X6AbmtjNsQ",
        "outputId": "b2e62d18-31c3-4630-f5f3-03dcd0669d3d"
      },
      "execution_count": null,
      "outputs": [
        {
          "output_type": "stream",
          "name": "stdout",
          "text": [
            "[11, 2, 44, 44, 4, 7, 6, 8, 99, 88, 77, 66]\n",
            "44\n"
          ]
        }
      ]
    },
    {
      "cell_type": "code",
      "source": [
        "notes.remove(2)           #index değil '2' değerini siler\n",
        "print(notes)"
      ],
      "metadata": {
        "colab": {
          "base_uri": "https://localhost:8080/"
        },
        "id": "jlm0HcImjcNt",
        "outputId": "d1fc7c1f-5676-45ea-8b9e-88ead36ef34e"
      },
      "execution_count": null,
      "outputs": [
        {
          "output_type": "stream",
          "name": "stdout",
          "text": [
            "[11, 44, 44, 4, 7, 6, 8, 99, 88, 77, 66]\n"
          ]
        }
      ]
    },
    {
      "cell_type": "code",
      "source": [
        "notes.count(44)         #'44' listede kaç tane var"
      ],
      "metadata": {
        "colab": {
          "base_uri": "https://localhost:8080/"
        },
        "id": "8egUyWYrj_5x",
        "outputId": "5b38a13d-28fa-4614-c96d-782d2cd2df7b"
      },
      "execution_count": null,
      "outputs": [
        {
          "output_type": "execute_result",
          "data": {
            "text/plain": [
              "2"
            ]
          },
          "metadata": {},
          "execution_count": 18
        }
      ]
    },
    {
      "cell_type": "code",
      "source": [
        "a = 2\n",
        "b = a       #b=2 oluyor fakat b'nin degeri güncellenmiyor. a'nin degerini güncelleniyor o nedenle b ayni kaliyor."
      ],
      "metadata": {
        "id": "QcBkwuKvkg9N"
      },
      "execution_count": null,
      "outputs": []
    },
    {
      "cell_type": "code",
      "source": [
        "b"
      ],
      "metadata": {
        "colab": {
          "base_uri": "https://localhost:8080/"
        },
        "id": "CVEdqAtXlFVn",
        "outputId": "6c56559a-6cd1-41b6-bc8a-d10e8b09dd8e"
      },
      "execution_count": null,
      "outputs": [
        {
          "output_type": "execute_result",
          "data": {
            "text/plain": [
              "2"
            ]
          },
          "metadata": {},
          "execution_count": 32
        }
      ]
    },
    {
      "cell_type": "code",
      "source": [
        "a"
      ],
      "metadata": {
        "colab": {
          "base_uri": "https://localhost:8080/"
        },
        "id": "p4JRZS3ClHPv",
        "outputId": "632677e9-6ae7-461b-b99a-dfae26af8a5a"
      },
      "execution_count": null,
      "outputs": [
        {
          "output_type": "execute_result",
          "data": {
            "text/plain": [
              "2"
            ]
          },
          "metadata": {},
          "execution_count": 33
        }
      ]
    },
    {
      "cell_type": "code",
      "source": [
        "a = a + 1"
      ],
      "metadata": {
        "id": "wWSiwOxolIPR"
      },
      "execution_count": null,
      "outputs": []
    },
    {
      "cell_type": "code",
      "source": [
        "a"
      ],
      "metadata": {
        "colab": {
          "base_uri": "https://localhost:8080/"
        },
        "id": "bf_zMxO6lMEW",
        "outputId": "4d22f050-f934-4eaf-c489-1b489e02da40"
      },
      "execution_count": null,
      "outputs": [
        {
          "output_type": "execute_result",
          "data": {
            "text/plain": [
              "3"
            ]
          },
          "metadata": {},
          "execution_count": 35
        }
      ]
    },
    {
      "cell_type": "code",
      "source": [
        "b"
      ],
      "metadata": {
        "colab": {
          "base_uri": "https://localhost:8080/"
        },
        "id": "PYcHCXsZlM1T",
        "outputId": "09e1d719-a48a-42b0-8e50-c8c4d4ef502f"
      },
      "execution_count": null,
      "outputs": [
        {
          "output_type": "execute_result",
          "data": {
            "text/plain": [
              "2"
            ]
          },
          "metadata": {},
          "execution_count": 36
        }
      ]
    },
    {
      "cell_type": "code",
      "source": [
        "arr = [1,2,3]\n",
        "arr2 = arr.copy()\n",
        "\n",
        "print(arr)\n",
        "print(arr2)"
      ],
      "metadata": {
        "colab": {
          "base_uri": "https://localhost:8080/"
        },
        "id": "6ojJH-VJmKHe",
        "outputId": "e2d3e369-dec9-4ae3-be9d-7c02d88af14b"
      },
      "execution_count": null,
      "outputs": [
        {
          "output_type": "stream",
          "name": "stdout",
          "text": [
            "[1, 2, 3]\n",
            "[1, 2, 3]\n"
          ]
        }
      ]
    },
    {
      "cell_type": "code",
      "source": [
        "arr + arr2      #array concetanation"
      ],
      "metadata": {
        "colab": {
          "base_uri": "https://localhost:8080/"
        },
        "id": "ktbaJ_iPmcWL",
        "outputId": "de2a2aed-85a9-44b0-c1a9-df86c6e7ec68"
      },
      "execution_count": null,
      "outputs": [
        {
          "output_type": "execute_result",
          "data": {
            "text/plain": [
              "[1, 2, 3, 1, 2, 3]"
            ]
          },
          "metadata": {},
          "execution_count": 39
        }
      ]
    },
    {
      "cell_type": "code",
      "source": [
        "arr = [1,2,3,4,5,6]   #yazdigin indexteki degeri verir\n",
        "arr\n",
        "arr.index(4)"
      ],
      "metadata": {
        "colab": {
          "base_uri": "https://localhost:8080/"
        },
        "id": "cREKV2WPqoyg",
        "outputId": "1e2d3d22-96d9-4862-a832-1ab71bb3a194"
      },
      "execution_count": null,
      "outputs": [
        {
          "output_type": "execute_result",
          "data": {
            "text/plain": [
              "3"
            ]
          },
          "metadata": {},
          "execution_count": 40
        }
      ]
    },
    {
      "cell_type": "code",
      "source": [
        "arr.reverse()         #reverse'te array guncellenir\n",
        "arr"
      ],
      "metadata": {
        "colab": {
          "base_uri": "https://localhost:8080/"
        },
        "id": "eVKgT1tfq3H-",
        "outputId": "f7dff622-d787-41d0-8fd7-3dc7871e1c05"
      },
      "execution_count": null,
      "outputs": [
        {
          "output_type": "execute_result",
          "data": {
            "text/plain": [
              "[6, 5, 4, 3, 2, 1]"
            ]
          },
          "metadata": {},
          "execution_count": 41
        }
      ]
    },
    {
      "cell_type": "code",
      "source": [
        "arr2=[1,2,3,4,5,6]    #slicing ile yaptigimizda guncellenmez\n",
        "arr2[::-1]"
      ],
      "metadata": {
        "colab": {
          "base_uri": "https://localhost:8080/"
        },
        "id": "bhjJDHR0q9jb",
        "outputId": "56fe321f-1862-40c0-dca9-cae7fbfbaab3"
      },
      "execution_count": null,
      "outputs": [
        {
          "output_type": "execute_result",
          "data": {
            "text/plain": [
              "[6, 5, 4, 3, 2, 1]"
            ]
          },
          "metadata": {},
          "execution_count": 45
        }
      ]
    },
    {
      "cell_type": "code",
      "source": [
        "arr = [44,45,4,3,76]\n",
        "SortedArray = sorted(arr)\n",
        "\n",
        "print(SortedArray)\n",
        "print(arr)          #original list won't updated"
      ],
      "metadata": {
        "colab": {
          "base_uri": "https://localhost:8080/"
        },
        "id": "u3Tln8KBEhxU",
        "outputId": "110c0299-a96b-4152-ddae-7684421d5ee5"
      },
      "execution_count": null,
      "outputs": [
        {
          "output_type": "stream",
          "name": "stdout",
          "text": [
            "[3, 4, 44, 45, 76]\n",
            "[44, 45, 4, 3, 76]\n"
          ]
        }
      ]
    },
    {
      "cell_type": "code",
      "source": [
        "arr = [44,45,4,3,76]\n",
        "sArray = arr.sort()\n",
        "\n",
        "print(arr)\n",
        "print(sArray)       #original list will updated"
      ],
      "metadata": {
        "colab": {
          "base_uri": "https://localhost:8080/"
        },
        "id": "ZV8KO_8SE6Lj",
        "outputId": "b18fb53e-b267-4281-95a5-3d31b50271f2"
      },
      "execution_count": null,
      "outputs": [
        {
          "output_type": "stream",
          "name": "stdout",
          "text": [
            "[3, 4, 44, 45, 76]\n",
            "None\n"
          ]
        }
      ]
    },
    {
      "cell_type": "code",
      "source": [
        "mixedArr = ['b','c','a',\"1\",\"0.2\",\"9\"]\n",
        "mixedArr.sort()\n",
        "mixedArr"
      ],
      "metadata": {
        "colab": {
          "base_uri": "https://localhost:8080/"
        },
        "id": "NCPQEg8qF8Pk",
        "outputId": "1a49a931-e0e3-4de0-ed81-65d5c5b4940c"
      },
      "execution_count": null,
      "outputs": [
        {
          "output_type": "execute_result",
          "data": {
            "text/plain": [
              "['0.2', '1', '9', 'a', 'b', 'c']"
            ]
          },
          "metadata": {},
          "execution_count": 17
        }
      ]
    },
    {
      "cell_type": "code",
      "source": [
        "x = 10            #tuples CANNOT changed like lists. Immutable\n",
        "y = 34\n",
        "tuple = (x,y)\n"
      ],
      "metadata": {
        "id": "WZvEKvTgGZnj"
      },
      "execution_count": null,
      "outputs": []
    },
    {
      "cell_type": "code",
      "source": [
        "list = [[1,2,3],[4,5,6]]\n",
        "list[0][1]"
      ],
      "metadata": {
        "colab": {
          "base_uri": "https://localhost:8080/"
        },
        "id": "BA5GHNXXiLrJ",
        "outputId": "921acb7f-1377-4c92-952f-002a6598e0ea"
      },
      "execution_count": null,
      "outputs": [
        {
          "output_type": "execute_result",
          "data": {
            "text/plain": [
              "2"
            ]
          },
          "metadata": {},
          "execution_count": 19
        }
      ]
    },
    {
      "cell_type": "code",
      "source": [
        "tuple2 = 1,2,3,4  #no paranthesis required\n",
        "type(tuple2)"
      ],
      "metadata": {
        "colab": {
          "base_uri": "https://localhost:8080/"
        },
        "id": "cSxr8vDmi1ns",
        "outputId": "cde0eb51-b195-4f31-b483-5b39fee70640"
      },
      "execution_count": null,
      "outputs": [
        {
          "output_type": "execute_result",
          "data": {
            "text/plain": [
              "tuple"
            ]
          },
          "metadata": {},
          "execution_count": 20
        }
      ]
    },
    {
      "cell_type": "code",
      "source": [
        "list = [1,2,4,5,99]\n",
        "99 in list"
      ],
      "metadata": {
        "colab": {
          "base_uri": "https://localhost:8080/"
        },
        "id": "Q3YaUJUUi7hy",
        "outputId": "13a68e7f-88c7-4a2e-f15e-3c66a50e920a"
      },
      "execution_count": null,
      "outputs": [
        {
          "output_type": "execute_result",
          "data": {
            "text/plain": [
              "True"
            ]
          },
          "metadata": {},
          "execution_count": 21
        }
      ]
    },
    {
      "cell_type": "markdown",
      "source": [
        "**DICTIONARY**"
      ],
      "metadata": {
        "id": "0HSCh_ackuyG"
      }
    },
    {
      "cell_type": "code",
      "source": [
        "notes = {\"deniz\":80, \"kaan\":78, \"gizem\":50}       #\"key1:\"value1, \"key2\":value2 \"key3\":value3\n",
        "notes[\"kaan\"]"
      ],
      "metadata": {
        "colab": {
          "base_uri": "https://localhost:8080/"
        },
        "id": "GTO4pYRekhnI",
        "outputId": "7ddeb732-0b42-4ff0-d461-8e4c36ad474d"
      },
      "execution_count": null,
      "outputs": [
        {
          "output_type": "execute_result",
          "data": {
            "text/plain": [
              "78"
            ]
          },
          "metadata": {},
          "execution_count": 23
        }
      ]
    },
    {
      "cell_type": "code",
      "source": [
        "peoples = {\"kaan\":{\"not\":80, \"no\":731}, \"deniz\":{\"not\":100, \"no\":105}, \"gizem\":{\"not\":50, \"no\":180}}\n",
        "peoples[\"deniz\"][\"no\"]"
      ],
      "metadata": {
        "colab": {
          "base_uri": "https://localhost:8080/"
        },
        "id": "5vUxHD0ZkybJ",
        "outputId": "18345bbb-6884-49bd-918d-5c028f30ca3e"
      },
      "execution_count": null,
      "outputs": [
        {
          "output_type": "execute_result",
          "data": {
            "text/plain": [
              "105"
            ]
          },
          "metadata": {},
          "execution_count": 24
        }
      ]
    },
    {
      "cell_type": "code",
      "source": [
        "peoples = {\"kaan\":{\"not\":80, \"no\":731}, \"deniz\":{\"not\":100, \"no\":105}, \"gizem\":{\"not\":50, \"no\":180}}\n",
        "peoples[\"kaan\"][\"not\"] = peoples[\"kaan\"][\"not\"] + 90\n",
        "peoples[\"kaan\"][\"not\"]"
      ],
      "metadata": {
        "colab": {
          "base_uri": "https://localhost:8080/"
        },
        "id": "OL31nFEWlwdQ",
        "outputId": "17cc2b2a-aa3f-4929-8e94-46d50d84f5b1"
      },
      "execution_count": null,
      "outputs": [
        {
          "output_type": "execute_result",
          "data": {
            "text/plain": [
              "170"
            ]
          },
          "metadata": {},
          "execution_count": 27
        }
      ]
    },
    {
      "cell_type": "code",
      "source": [
        "len(peoples)            #total key values"
      ],
      "metadata": {
        "colab": {
          "base_uri": "https://localhost:8080/"
        },
        "id": "bTDOSqFqoIyH",
        "outputId": "c0eb04a4-935e-415e-cbfd-30d4dc8332bf"
      },
      "execution_count": null,
      "outputs": [
        {
          "output_type": "execute_result",
          "data": {
            "text/plain": [
              "3"
            ]
          },
          "metadata": {},
          "execution_count": 28
        }
      ]
    },
    {
      "cell_type": "code",
      "source": [
        "notes = {\"deniz\":80, \"kaan\":78, \"gizem\":50}\n",
        "notes[\"mahmut\"] = 49\n",
        "notes"
      ],
      "metadata": {
        "colab": {
          "base_uri": "https://localhost:8080/"
        },
        "id": "wAEMpvPwoe7L",
        "outputId": "90d5a3a0-7a9f-43de-aac3-b14124536b26"
      },
      "execution_count": null,
      "outputs": [
        {
          "output_type": "execute_result",
          "data": {
            "text/plain": [
              "{'deniz': 80, 'kaan': 78, 'gizem': 50, 'mahmut': 49}"
            ]
          },
          "metadata": {},
          "execution_count": 31
        }
      ]
    },
    {
      "cell_type": "code",
      "source": [
        "notes = {\"deniz\":80, \"kaan\":78, \"gizem\":50}\n",
        "del notes[\"deniz\"]\n",
        "notes"
      ],
      "metadata": {
        "colab": {
          "base_uri": "https://localhost:8080/"
        },
        "id": "_rYOyNQso-Co",
        "outputId": "4556485e-3a69-47dc-d5ec-25b026a7a306"
      },
      "execution_count": null,
      "outputs": [
        {
          "output_type": "execute_result",
          "data": {
            "text/plain": [
              "{'kaan': 78, 'gizem': 50}"
            ]
          },
          "metadata": {},
          "execution_count": 32
        }
      ]
    },
    {
      "cell_type": "code",
      "source": [
        "notes = {\"deniz\":80, \"kaan\":78, \"gizem\":50}     #key search NOT value\n",
        "\"kaan\" in notes"
      ],
      "metadata": {
        "colab": {
          "base_uri": "https://localhost:8080/"
        },
        "id": "7TnR_cKUpDt7",
        "outputId": "3d4122ab-4c38-4264-95d8-5fb73d67e35e"
      },
      "execution_count": null,
      "outputs": [
        {
          "output_type": "execute_result",
          "data": {
            "text/plain": [
              "True"
            ]
          },
          "metadata": {},
          "execution_count": 34
        }
      ]
    },
    {
      "cell_type": "markdown",
      "source": [
        "**SETS**"
      ],
      "metadata": {
        "id": "1uiYGKMWp3nl"
      }
    },
    {
      "cell_type": "code",
      "source": [
        "#set2 = {1,2,3,4,5,6,1}           #sets DOES NOT hold duplicate values\n"
      ],
      "metadata": {
        "id": "nmRt3koCp3OB"
      },
      "execution_count": null,
      "outputs": []
    },
    {
      "cell_type": "markdown",
      "source": [
        "**NON-SCALAR FOR**"
      ],
      "metadata": {
        "id": "Lw9I0HMuuY2u"
      }
    },
    {
      "cell_type": "code",
      "source": [
        "notes = [99,54,42,87,23]\n",
        "for i in notes:\n",
        "  print(i)"
      ],
      "metadata": {
        "colab": {
          "base_uri": "https://localhost:8080/"
        },
        "id": "lWDWeyHrurx_",
        "outputId": "d7b66d12-8c41-4c2a-9a64-bd995262ebe0"
      },
      "execution_count": null,
      "outputs": [
        {
          "output_type": "stream",
          "name": "stdout",
          "text": [
            "99\n",
            "54\n",
            "42\n",
            "87\n",
            "23\n"
          ]
        }
      ]
    },
    {
      "cell_type": "code",
      "source": [
        "notes = [99,54,42,87,23]\n",
        "t = 0\n",
        "\n",
        "for e in notes:\n",
        "  t += e\n",
        "\n",
        "average = t /len(notes)\n",
        "print(average)"
      ],
      "metadata": {
        "colab": {
          "base_uri": "https://localhost:8080/"
        },
        "id": "xAKmc1Q7Zcpz",
        "outputId": "7df07e10-1e74-4313-8c63-ce455bdb5280"
      },
      "execution_count": null,
      "outputs": [
        {
          "output_type": "stream",
          "name": "stdout",
          "text": [
            "61.0\n"
          ]
        }
      ]
    },
    {
      "cell_type": "code",
      "source": [
        "t = 0\n",
        "for i in range(len(notes)):\n",
        "  t+=notes[i]\n",
        "\n",
        "average = t / len(notes)\n",
        "print(average)"
      ],
      "metadata": {
        "colab": {
          "base_uri": "https://localhost:8080/"
        },
        "id": "wcrVJtKFasIn",
        "outputId": "d98522b8-ed0f-4dcb-be22-0c2dbbcfffbc"
      },
      "execution_count": 2,
      "outputs": [
        {
          "output_type": "stream",
          "name": "stdout",
          "text": [
            "61.0\n"
          ]
        }
      ]
    },
    {
      "cell_type": "code",
      "source": [
        "notes = [99,54,42,87,23]\n",
        "\n",
        "for e in notes:\n",
        "  print(e)\n",
        "  e = e + 10\n",
        "  print(e)\n",
        "  print(notes)\n",
        "  print(\"*******\")\n",
        "print(notes)"
      ],
      "metadata": {
        "colab": {
          "base_uri": "https://localhost:8080/"
        },
        "id": "PDdgMxs3bVer",
        "outputId": "cc6ea50a-00cb-4c8b-d5d0-dbadbf76a76a"
      },
      "execution_count": 5,
      "outputs": [
        {
          "output_type": "stream",
          "name": "stdout",
          "text": [
            "99\n",
            "109\n",
            "[99, 54, 42, 87, 23]\n",
            "*******\n",
            "54\n",
            "64\n",
            "[99, 54, 42, 87, 23]\n",
            "*******\n",
            "42\n",
            "52\n",
            "[99, 54, 42, 87, 23]\n",
            "*******\n",
            "87\n",
            "97\n",
            "[99, 54, 42, 87, 23]\n",
            "*******\n",
            "23\n",
            "33\n",
            "[99, 54, 42, 87, 23]\n",
            "*******\n",
            "[99, 54, 42, 87, 23]\n"
          ]
        }
      ]
    },
    {
      "cell_type": "code",
      "source": [
        "notes = [99,54,42,87,23]\n",
        "\n",
        "for i in range(len(notes)):\n",
        "  notes[i] += 5\n",
        "\n",
        "print(notes)"
      ],
      "metadata": {
        "colab": {
          "base_uri": "https://localhost:8080/"
        },
        "id": "vtc_0-4bb0Ja",
        "outputId": "b8ced22a-5354-4ecd-e56d-cbd53e5a2bfd"
      },
      "execution_count": 6,
      "outputs": [
        {
          "output_type": "stream",
          "name": "stdout",
          "text": [
            "[104, 59, 47, 92, 28]\n"
          ]
        }
      ]
    },
    {
      "cell_type": "code",
      "source": [
        "dictionary = {\"student_1\":[100,99],\"student_2\":[76,43],\"student_3\":[46,31]}\n",
        "for k in dictionary:\n",
        "  print(k)\n",
        "\n",
        "print(\"-*-*-*-*-*-*--*-\")\n",
        "\n",
        "for j in dictionary:\n",
        "  value = dictionary[j]\n",
        "  print(value)\n"
      ],
      "metadata": {
        "colab": {
          "base_uri": "https://localhost:8080/"
        },
        "id": "6l0g445TcZHj",
        "outputId": "8f78bbb2-812b-4566-a1a9-0f0016bf76e9"
      },
      "execution_count": 8,
      "outputs": [
        {
          "output_type": "stream",
          "name": "stdout",
          "text": [
            "student_1\n",
            "student_2\n",
            "student_3\n",
            "-*-*-*-*-*-*--*-\n",
            "[100, 99]\n",
            "[76, 43]\n",
            "[46, 31]\n"
          ]
        }
      ]
    },
    {
      "cell_type": "code",
      "source": [
        "dictionary = {\"student_1\":[100,99],\"student_2\":[76,43],\"student_3\":[46,31]}\n",
        "\n",
        "for i in dictionary.values():\n",
        "  print(i)"
      ],
      "metadata": {
        "colab": {
          "base_uri": "https://localhost:8080/"
        },
        "id": "U1fvVKTvdDf5",
        "outputId": "b86b686c-3570-48dd-930c-c6b8bdce9a95"
      },
      "execution_count": 9,
      "outputs": [
        {
          "output_type": "stream",
          "name": "stdout",
          "text": [
            "[100, 99]\n",
            "[76, 43]\n",
            "[46, 31]\n"
          ]
        }
      ]
    },
    {
      "cell_type": "code",
      "source": [
        "dictionary = {\"student_1\":[100,99],\"student_2\":[76,43],\"student_3\":[46,31]}\n",
        "\n",
        "for i,j in dictionary.items():\n",
        "  print(\"key is:\",i,\"value is:\",j)"
      ],
      "metadata": {
        "colab": {
          "base_uri": "https://localhost:8080/"
        },
        "id": "pbHl9QHLdRWX",
        "outputId": "5dfd6d80-a390-4a81-b075-d3cf74e6fcab"
      },
      "execution_count": 10,
      "outputs": [
        {
          "output_type": "stream",
          "name": "stdout",
          "text": [
            "key is: student_1 value is: [100, 99]\n",
            "key is: student_2 value is: [76, 43]\n",
            "key is: student_3 value is: [46, 31]\n"
          ]
        }
      ]
    },
    {
      "cell_type": "code",
      "source": [
        "s = \"hello,howdy,hru\"\n",
        "s.split(\",\")"
      ],
      "metadata": {
        "colab": {
          "base_uri": "https://localhost:8080/"
        },
        "id": "KTB4SwVmdkKw",
        "outputId": "c8a42dd8-928c-4610-9343-18c3c5dc1b79"
      },
      "execution_count": 12,
      "outputs": [
        {
          "output_type": "execute_result",
          "data": {
            "text/plain": [
              "['hello', 'howdy', 'hru']"
            ]
          },
          "metadata": {},
          "execution_count": 12
        }
      ]
    },
    {
      "cell_type": "code",
      "source": [
        "list = ['hello','howdy','hru']\n",
        "\"/\".join(list)"
      ],
      "metadata": {
        "colab": {
          "base_uri": "https://localhost:8080/",
          "height": 35
        },
        "id": "3ZjhWOvud5ua",
        "outputId": "34a8e0d0-53f1-4c05-c9ac-eedb184a8c25"
      },
      "execution_count": 14,
      "outputs": [
        {
          "output_type": "execute_result",
          "data": {
            "text/plain": [
              "'hello/howdy/hru'"
            ],
            "application/vnd.google.colaboratory.intrinsic+json": {
              "type": "string"
            }
          },
          "metadata": {},
          "execution_count": 14
        }
      ]
    },
    {
      "cell_type": "markdown",
      "source": [
        "**LIST COMPREHENSION**"
      ],
      "metadata": {
        "id": "d3s2SEu5eovv"
      }
    },
    {
      "cell_type": "code",
      "source": [
        "squares = []\n",
        "\n",
        "for i in range(1,11):\n",
        "  squares.append(i*i)\n",
        "\n",
        "squares"
      ],
      "metadata": {
        "colab": {
          "base_uri": "https://localhost:8080/"
        },
        "id": "qldZY66uesD-",
        "outputId": "9b209892-d72f-49ae-fcd5-098be45bb7b4"
      },
      "execution_count": 15,
      "outputs": [
        {
          "output_type": "execute_result",
          "data": {
            "text/plain": [
              "[1, 4, 9, 16, 25, 36, 49, 64, 81, 100]"
            ]
          },
          "metadata": {},
          "execution_count": 15
        }
      ]
    },
    {
      "cell_type": "code",
      "source": [
        "squares = [j+10 for j in range(1,11)]\n",
        "squares"
      ],
      "metadata": {
        "colab": {
          "base_uri": "https://localhost:8080/"
        },
        "id": "hiYgDzJue_iC",
        "outputId": "cf9679ab-aaa8-454d-c01c-73b6381c366e"
      },
      "execution_count": 17,
      "outputs": [
        {
          "output_type": "execute_result",
          "data": {
            "text/plain": [
              "[11, 12, 13, 14, 15, 16, 17, 18, 19, 20]"
            ]
          },
          "metadata": {},
          "execution_count": 17
        }
      ]
    },
    {
      "cell_type": "code",
      "source": [
        "def cube(x):\n",
        "  return x * x * x\n",
        "\n",
        "odd_squares = []\n",
        "cubes = [cube(x) for x in range(1,5)]\n",
        "print(cubes)\n",
        "\n",
        "print(\"***\")\n",
        "\n",
        "for e in cubes:\n",
        "  if e % 2 == 1:\n",
        "    odd_squares.append(e)\n",
        "\n",
        "odd_squares\n"
      ],
      "metadata": {
        "colab": {
          "base_uri": "https://localhost:8080/"
        },
        "id": "ezHDsQX8feJY",
        "outputId": "c70d8402-024b-41bb-db73-b585111ce53b"
      },
      "execution_count": 25,
      "outputs": [
        {
          "output_type": "stream",
          "name": "stdout",
          "text": [
            "[1, 8, 27, 64]\n",
            "***\n"
          ]
        },
        {
          "output_type": "execute_result",
          "data": {
            "text/plain": [
              "[1, 27]"
            ]
          },
          "metadata": {},
          "execution_count": 25
        }
      ]
    },
    {
      "cell_type": "markdown",
      "source": [
        "**SET COMPREHENSIONS**"
      ],
      "metadata": {
        "id": "Ez0j1IQRhGvg"
      }
    },
    {
      "cell_type": "code",
      "source": [
        "numbers = [1,2,3,4,5,6,7,1,2]\n",
        "set_numbers = {s for s in numbers if s in [1,2,3,4,5,6,1,2]}\n",
        "set_numbers"
      ],
      "metadata": {
        "colab": {
          "base_uri": "https://localhost:8080/"
        },
        "id": "TbWpZCMshIaX",
        "outputId": "35aed91d-453c-47b1-8850-3f934a658433"
      },
      "execution_count": 27,
      "outputs": [
        {
          "output_type": "execute_result",
          "data": {
            "text/plain": [
              "{1, 2, 3, 4, 5, 6}"
            ]
          },
          "metadata": {},
          "execution_count": 27
        }
      ]
    },
    {
      "cell_type": "markdown",
      "source": [
        "**DICTIONARY COMPREHENSIONS**"
      ],
      "metadata": {
        "id": "Ar0H3FvUhgOu"
      }
    },
    {
      "cell_type": "code",
      "source": [
        "square_dict = {e:e * e for e in range(1,11)}\n",
        "square_dict\n"
      ],
      "metadata": {
        "colab": {
          "base_uri": "https://localhost:8080/"
        },
        "id": "WWyrWRUahf9i",
        "outputId": "60ded20b-a6fa-4d6b-e8a1-8566cc8738d6"
      },
      "execution_count": 29,
      "outputs": [
        {
          "output_type": "execute_result",
          "data": {
            "text/plain": [
              "{1: 1, 2: 4, 3: 9, 4: 16, 5: 25, 6: 36, 7: 49, 8: 64, 9: 81, 10: 100}"
            ]
          },
          "metadata": {},
          "execution_count": 29
        }
      ]
    },
    {
      "cell_type": "code",
      "source": [
        "square_dict[9]"
      ],
      "metadata": {
        "colab": {
          "base_uri": "https://localhost:8080/"
        },
        "id": "vnie2U6dhx9F",
        "outputId": "8be31611-a327-4567-b523-9f804fcb3fc5"
      },
      "execution_count": 30,
      "outputs": [
        {
          "output_type": "execute_result",
          "data": {
            "text/plain": [
              "81"
            ]
          },
          "metadata": {},
          "execution_count": 30
        }
      ]
    },
    {
      "cell_type": "code",
      "source": [
        "m = [[10,11,12],[13,14],[15,16,17,18]]      #list flattening\n",
        "new_m = []\n",
        "\n",
        "for _ in m:\n",
        "  for e in _:\n",
        "    new_m.append(e)\n",
        "    print(e)"
      ],
      "metadata": {
        "colab": {
          "base_uri": "https://localhost:8080/"
        },
        "id": "Vw1wkyXoiPSJ",
        "outputId": "1d44f0c1-a1d3-4a06-c680-7aa785316fcb"
      },
      "execution_count": 32,
      "outputs": [
        {
          "output_type": "stream",
          "name": "stdout",
          "text": [
            "10\n",
            "11\n",
            "12\n",
            "13\n",
            "14\n",
            "15\n",
            "16\n",
            "17\n",
            "18\n"
          ]
        }
      ]
    },
    {
      "cell_type": "markdown",
      "source": [
        "**VARIABLE UNPACKING**"
      ],
      "metadata": {
        "id": "NBNl0mJzjKXA"
      }
    },
    {
      "cell_type": "code",
      "source": [
        "x, y = (4,5)\n",
        "print(x)\n",
        "print(y)"
      ],
      "metadata": {
        "colab": {
          "base_uri": "https://localhost:8080/"
        },
        "id": "ar2Df6xyjMSf",
        "outputId": "41de8ee8-cb55-42db-9737-f681a4f9578b"
      },
      "execution_count": 33,
      "outputs": [
        {
          "output_type": "stream",
          "name": "stdout",
          "text": [
            "4\n",
            "5\n"
          ]
        }
      ]
    },
    {
      "cell_type": "code",
      "source": [
        "x, y , *z = (1,2,5,7,2,6)\n",
        "print(x)\n",
        "print(y)\n",
        "print(z)"
      ],
      "metadata": {
        "colab": {
          "base_uri": "https://localhost:8080/"
        },
        "id": "z7hoR2gsldip",
        "outputId": "a751bbe5-16ac-4a71-8ccc-da8e0220becc"
      },
      "execution_count": 36,
      "outputs": [
        {
          "output_type": "stream",
          "name": "stdout",
          "text": [
            "1\n",
            "2\n",
            "[5, 7, 2, 6]\n"
          ]
        }
      ]
    },
    {
      "cell_type": "markdown",
      "source": [
        "**ENUMERATE**"
      ],
      "metadata": {
        "id": "N7SSWDvdmI0q"
      }
    },
    {
      "cell_type": "code",
      "source": [
        "list = [(1,2),(10,20)]\n",
        "\n",
        "for i in list:\n",
        "  print(i)"
      ],
      "metadata": {
        "colab": {
          "base_uri": "https://localhost:8080/"
        },
        "id": "iQ76STJcmLw2",
        "outputId": "18eba2e5-f6d2-4dfd-91b0-e70626b5f94d"
      },
      "execution_count": 37,
      "outputs": [
        {
          "output_type": "stream",
          "name": "stdout",
          "text": [
            "(1, 2)\n",
            "(10, 20)\n"
          ]
        }
      ]
    },
    {
      "cell_type": "code",
      "source": [
        "for j in list:\n",
        "  x,y = j\n",
        "  print(x)\n",
        "  print(y)"
      ],
      "metadata": {
        "colab": {
          "base_uri": "https://localhost:8080/"
        },
        "id": "3UEx7ONCmUly",
        "outputId": "725b7d11-3231-4c00-cbee-972b617aea66"
      },
      "execution_count": 38,
      "outputs": [
        {
          "output_type": "stream",
          "name": "stdout",
          "text": [
            "1\n",
            "2\n",
            "10\n",
            "20\n"
          ]
        }
      ]
    },
    {
      "cell_type": "code",
      "source": [
        "names = ['phil','claire','micheal','cameron']\n",
        "for i in names:\n",
        "  print(i)"
      ],
      "metadata": {
        "colab": {
          "base_uri": "https://localhost:8080/"
        },
        "id": "vxkzgOrWm7Jt",
        "outputId": "be23a9cb-3cb6-4395-b5ba-0f24f4ef3471"
      },
      "execution_count": 39,
      "outputs": [
        {
          "output_type": "stream",
          "name": "stdout",
          "text": [
            "phil\n",
            "claire\n",
            "micheal\n",
            "cameron\n"
          ]
        }
      ]
    },
    {
      "cell_type": "code",
      "source": [
        "names = ['phil','claire','micheal','cameron']\n",
        "for i, e in enumerate(names):\n",
        "  print(i,\".th index:\",e)"
      ],
      "metadata": {
        "colab": {
          "base_uri": "https://localhost:8080/"
        },
        "id": "K6UVElsSnK3g",
        "outputId": "c33a1c02-7712-43af-d257-ac0ef07df4f8"
      },
      "execution_count": 40,
      "outputs": [
        {
          "output_type": "stream",
          "name": "stdout",
          "text": [
            "0 .th index: phil\n",
            "1 .th index: claire\n",
            "2 .th index: micheal\n",
            "3 .th index: cameron\n"
          ]
        }
      ]
    },
    {
      "cell_type": "code",
      "source": [
        "names = ['phil','claire','micheal','cameron']\n",
        "for i, e in enumerate(names, start=10):\n",
        "  print(i,\".th index:\",e)"
      ],
      "metadata": {
        "colab": {
          "base_uri": "https://localhost:8080/"
        },
        "id": "0GOwBvyLnijS",
        "outputId": "0ff5d230-6f9b-44fb-8510-708616f168ea"
      },
      "execution_count": 41,
      "outputs": [
        {
          "output_type": "stream",
          "name": "stdout",
          "text": [
            "10 .th index: phil\n",
            "11 .th index: claire\n",
            "12 .th index: micheal\n",
            "13 .th index: cameron\n"
          ]
        }
      ]
    },
    {
      "cell_type": "markdown",
      "source": [
        "**ZIP**"
      ],
      "metadata": {
        "id": "kw46SfIEnq6K"
      }
    },
    {
      "cell_type": "code",
      "source": [
        "people = [\"student_1\",\"student_2\",\"student_3\"]\n",
        "notes = [90,80,21]\n",
        "\n",
        "for s, g in zip(people,notes):\n",
        "  print(s,g)"
      ],
      "metadata": {
        "colab": {
          "base_uri": "https://localhost:8080/"
        },
        "id": "FPcLUqzbnse0",
        "outputId": "fc1f8ac9-22e7-4fce-cde6-174c591d068c"
      },
      "execution_count": 42,
      "outputs": [
        {
          "output_type": "stream",
          "name": "stdout",
          "text": [
            "student_1 90\n",
            "student_2 80\n",
            "student_3 21\n"
          ]
        }
      ]
    },
    {
      "cell_type": "code",
      "source": [
        "sell = [35000.00,76300.98,67200.31]\n",
        "cost = [5676.42,820.11,2116.12]\n",
        "\n",
        "for s, c in zip(sell,cost):\n",
        "  profit = s - c\n",
        "  print(f'total profit: {profit}')"
      ],
      "metadata": {
        "colab": {
          "base_uri": "https://localhost:8080/"
        },
        "id": "OuieApmCoXQJ",
        "outputId": "2d09dc29-ccab-4ebc-fbc5-8702affc9cc4"
      },
      "execution_count": 46,
      "outputs": [
        {
          "output_type": "stream",
          "name": "stdout",
          "text": [
            "total profit: 29323.58\n",
            "total profit: 75480.87\n",
            "total profit: 65084.189999999995\n"
          ]
        }
      ]
    },
    {
      "cell_type": "markdown",
      "source": [
        "**FUNCTIONS**"
      ],
      "metadata": {
        "id": "vMrdaSiXDmJg"
      }
    },
    {
      "cell_type": "code",
      "source": [
        "def cube(x):\n",
        "    x * x\n",
        "\n",
        "a = cube(3)\n",
        "type(a)"
      ],
      "metadata": {
        "colab": {
          "base_uri": "https://localhost:8080/"
        },
        "id": "3-dmgSB_Dpv-",
        "outputId": "94aebc26-3daa-482e-bc75-caefab7e862e"
      },
      "execution_count": 50,
      "outputs": [
        {
          "output_type": "execute_result",
          "data": {
            "text/plain": [
              "NoneType"
            ]
          },
          "metadata": {},
          "execution_count": 50
        }
      ]
    },
    {
      "cell_type": "code",
      "source": [
        "def cube(x):\n",
        "    y = x * x\n",
        "    return y\n",
        "\n",
        "a = cube(3)\n",
        "type(a)\n",
        "print(a)"
      ],
      "metadata": {
        "colab": {
          "base_uri": "https://localhost:8080/"
        },
        "id": "TgVU6XUpDuVy",
        "outputId": "260af5b2-a1fb-4ed3-f3bc-6db908ed7cc7"
      },
      "execution_count": 53,
      "outputs": [
        {
          "output_type": "stream",
          "name": "stdout",
          "text": [
            "9\n"
          ]
        }
      ]
    },
    {
      "cell_type": "code",
      "source": [
        "def square(x):                    #void function example is this\n",
        "  print(x,\"'s square is: \",x*x)\n",
        "\n",
        "square(3)"
      ],
      "metadata": {
        "colab": {
          "base_uri": "https://localhost:8080/"
        },
        "id": "JQe3_svDEhMZ",
        "outputId": "895133e0-d42c-4e74-d2fa-cc07eecf858d"
      },
      "execution_count": 56,
      "outputs": [
        {
          "output_type": "stream",
          "name": "stdout",
          "text": [
            "3 's square is:  9\n"
          ]
        }
      ]
    },
    {
      "cell_type": "markdown",
      "source": [
        "**FUNCTION EXPLANATION FOR DEBUGGERS**"
      ],
      "metadata": {
        "id": "LjQvr5WLFN2_"
      }
    },
    {
      "cell_type": "code",
      "source": [
        "def square(x):\n",
        "  print(x,\"'s square is: \",x*x)\n",
        "  #void function example is this\n",
        "\n",
        "square(3)"
      ],
      "metadata": {
        "colab": {
          "base_uri": "https://localhost:8080/"
        },
        "id": "QyWL8ikwFQVl",
        "outputId": "fa2bca50-e412-4167-d5f3-1e8c364458db"
      },
      "execution_count": 64,
      "outputs": [
        {
          "output_type": "stream",
          "name": "stdout",
          "text": [
            "3 's square is:  9\n"
          ]
        }
      ]
    },
    {
      "cell_type": "code",
      "source": [
        "?square"
      ],
      "metadata": {
        "id": "ctx_bIAEFV5z"
      },
      "execution_count": 65,
      "outputs": []
    },
    {
      "cell_type": "code",
      "source": [
        "??square"
      ],
      "metadata": {
        "id": "MT85Xy7TFXvT"
      },
      "execution_count": 63,
      "outputs": []
    },
    {
      "cell_type": "markdown",
      "source": [
        "**PRE-DEFINED PARAMETERS**"
      ],
      "metadata": {
        "id": "lvmll3MKGNAC"
      }
    },
    {
      "cell_type": "code",
      "source": [
        "def hello(end, start=\"hello\"):\n",
        "  print(start + \" \" + end)\n",
        "\n",
        "hello(\"kaan\")"
      ],
      "metadata": {
        "colab": {
          "base_uri": "https://localhost:8080/"
        },
        "id": "KjFQtPOIGPWB",
        "outputId": "06e0ac0a-8e3c-40fb-8305-1f37b5ca9b3d"
      },
      "execution_count": 69,
      "outputs": [
        {
          "output_type": "stream",
          "name": "stdout",
          "text": [
            "hello kaan\n"
          ]
        }
      ]
    },
    {
      "cell_type": "code",
      "source": [
        "def power(x,y=1):\n",
        "  return x ** y\n",
        "\n",
        "x = power(4)\n",
        "print(x)\n",
        "\n",
        "power(4,2)"
      ],
      "metadata": {
        "colab": {
          "base_uri": "https://localhost:8080/"
        },
        "id": "7lZgXAtQGlu0",
        "outputId": "495976ea-3a9f-41ef-b5c0-446c2fde5384"
      },
      "execution_count": 72,
      "outputs": [
        {
          "output_type": "stream",
          "name": "stdout",
          "text": [
            "4\n"
          ]
        },
        {
          "output_type": "execute_result",
          "data": {
            "text/plain": [
              "16"
            ]
          },
          "metadata": {},
          "execution_count": 72
        }
      ]
    },
    {
      "cell_type": "markdown",
      "source": [
        "**PYTHON USES FIRST CLASS FUNCTION**"
      ],
      "metadata": {
        "id": "3AG_C9BcHa6x"
      }
    },
    {
      "cell_type": "code",
      "source": [
        "def func2(x,f):\n",
        "  return square(x) + 4\n",
        "\n",
        "def square(x):\n",
        "  return x**2\n",
        "\n",
        "func2(3,square)"
      ],
      "metadata": {
        "colab": {
          "base_uri": "https://localhost:8080/"
        },
        "id": "nESjrMp9HeZ_",
        "outputId": "72079a3e-bb76-4840-c71c-e93f74497479"
      },
      "execution_count": 74,
      "outputs": [
        {
          "output_type": "execute_result",
          "data": {
            "text/plain": [
              "13"
            ]
          },
          "metadata": {},
          "execution_count": 74
        }
      ]
    },
    {
      "cell_type": "markdown",
      "source": [
        "**UNDERSCORE USAGE**"
      ],
      "metadata": {
        "id": "_ys9TeOgI63p"
      }
    },
    {
      "cell_type": "code",
      "source": [
        "x = 100000000\n",
        "y = 100_000_000\n",
        "\n",
        "\n",
        "print(x)\n",
        "print(y)\n",
        "print(x-y)\n",
        "type(x)\n",
        "type(y)"
      ],
      "metadata": {
        "colab": {
          "base_uri": "https://localhost:8080/"
        },
        "id": "gPhHmjM8I9I3",
        "outputId": "8aebb3d9-ca6f-432f-9ab8-725e7a01ce58"
      },
      "execution_count": 80,
      "outputs": [
        {
          "output_type": "stream",
          "name": "stdout",
          "text": [
            "100000000\n",
            "100000000\n",
            "0\n"
          ]
        },
        {
          "output_type": "execute_result",
          "data": {
            "text/plain": [
              "int"
            ]
          },
          "metadata": {},
          "execution_count": 80
        }
      ]
    },
    {
      "cell_type": "markdown",
      "source": [
        "**F-STRING**"
      ],
      "metadata": {
        "id": "kOMsfH6iJWG3"
      }
    },
    {
      "cell_type": "code",
      "source": [
        "name = \"kaan\"\n",
        "f\"given name is {name}\""
      ],
      "metadata": {
        "colab": {
          "base_uri": "https://localhost:8080/",
          "height": 35
        },
        "id": "xrGenhbhJYPt",
        "outputId": "ef246775-02be-45e8-9e10-39365a5f2a5b"
      },
      "execution_count": 81,
      "outputs": [
        {
          "output_type": "execute_result",
          "data": {
            "text/plain": [
              "'given name is kaan'"
            ],
            "application/vnd.google.colaboratory.intrinsic+json": {
              "type": "string"
            }
          },
          "metadata": {},
          "execution_count": 81
        }
      ]
    },
    {
      "cell_type": "code",
      "source": [
        "def square(x):\n",
        "  return x*x\n",
        "\n",
        "x = 10\n",
        "f\"{x} 's square is {square(x)}]\""
      ],
      "metadata": {
        "colab": {
          "base_uri": "https://localhost:8080/",
          "height": 35
        },
        "id": "9l7NJSJIJoPB",
        "outputId": "43fdbcb9-398f-4fb2-824d-6c11361ae46b"
      },
      "execution_count": 83,
      "outputs": [
        {
          "output_type": "execute_result",
          "data": {
            "text/plain": [
              "\"10 's square is 100]\""
            ],
            "application/vnd.google.colaboratory.intrinsic+json": {
              "type": "string"
            }
          },
          "metadata": {},
          "execution_count": 83
        }
      ]
    }
  ]
}