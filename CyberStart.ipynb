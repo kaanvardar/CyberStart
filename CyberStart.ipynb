{
  "nbformat": 4,
  "nbformat_minor": 0,
  "metadata": {
    "colab": {
      "provenance": [],
      "authorship_tag": "ABX9TyMjZyOkhBhAraJkzx9MRr0h",
      "include_colab_link": true
    },
    "kernelspec": {
      "name": "python3",
      "display_name": "Python 3"
    },
    "language_info": {
      "name": "python"
    }
  },
  "cells": [
    {
      "cell_type": "markdown",
      "metadata": {
        "id": "view-in-github",
        "colab_type": "text"
      },
      "source": [
        "<a href=\"https://colab.research.google.com/github/kaanvardar/CyberStart/blob/main/CyberStart.ipynb\" target=\"_parent\"><img src=\"https://colab.research.google.com/assets/colab-badge.svg\" alt=\"Open In Colab\"/></a>"
      ]
    },
    {
      "cell_type": "code",
      "execution_count": null,
      "metadata": {
        "colab": {
          "base_uri": "https://localhost:8080/"
        },
        "id": "MbUy0Jark9VP",
        "outputId": "81405fcf-2a5d-495f-e517-f8392c5e5b2b"
      },
      "outputs": [
        {
          "output_type": "stream",
          "name": "stdout",
          "text": [
            "5\n"
          ]
        }
      ],
      "source": [
        "x = 5\n",
        "print(x)"
      ]
    },
    {
      "cell_type": "code",
      "source": [
        "x = 'hello'\n",
        "print(x)"
      ],
      "metadata": {
        "colab": {
          "base_uri": "https://localhost:8080/"
        },
        "id": "V7RYuB3D5-SK",
        "outputId": "edc80077-3bbf-499a-825b-c34c5ef9fca8"
      },
      "execution_count": null,
      "outputs": [
        {
          "output_type": "stream",
          "name": "stdout",
          "text": [
            "hello\n"
          ]
        }
      ]
    },
    {
      "cell_type": "code",
      "source": [
        "string = \"merhabaööerhabamerhaba\"\n",
        "len(string)"
      ],
      "metadata": {
        "colab": {
          "base_uri": "https://localhost:8080/"
        },
        "id": "WRTUmP0h65V3",
        "outputId": "8eb90d6b-5fbe-49a4-cef4-a9f66b5343a5"
      },
      "execution_count": null,
      "outputs": [
        {
          "output_type": "execute_result",
          "data": {
            "text/plain": [
              "22"
            ]
          },
          "metadata": {},
          "execution_count": 11
        }
      ]
    },
    {
      "cell_type": "code",
      "source": [
        "msg = \"hello\"\n",
        "name = \"kaan\"\n",
        "welcome = msg +  name\n",
        "print(welcome)"
      ],
      "metadata": {
        "colab": {
          "base_uri": "https://localhost:8080/"
        },
        "id": "c2QO9pvD6XJU",
        "outputId": "47a07dcb-b205-4207-b81a-fee0657e7379"
      },
      "execution_count": null,
      "outputs": [
        {
          "output_type": "stream",
          "name": "stdout",
          "text": [
            "hellokaan\n"
          ]
        }
      ]
    },
    {
      "cell_type": "code",
      "source": [
        "string = ['K','A','A','N']\n",
        "print(string[3])"
      ],
      "metadata": {
        "colab": {
          "base_uri": "https://localhost:8080/"
        },
        "id": "e_bCdodd7Ku2",
        "outputId": "2358f309-d2d8-44ad-b474-cf79407ba139"
      },
      "execution_count": null,
      "outputs": [
        {
          "output_type": "stream",
          "name": "stdout",
          "text": [
            "N\n"
          ]
        }
      ]
    },
    {
      "cell_type": "code",
      "source": [
        "string = ['K','A','A','N']\n",
        "string[2] = 'C'\n",
        "print(string)"
      ],
      "metadata": {
        "colab": {
          "base_uri": "https://localhost:8080/"
        },
        "id": "AaADrQRu8tPl",
        "outputId": "e5acebf4-5f13-4a80-c27c-d9cb1763ca66"
      },
      "execution_count": null,
      "outputs": [
        {
          "output_type": "stream",
          "name": "stdout",
          "text": [
            "['K', 'A', 'C', 'N']\n"
          ]
        }
      ]
    },
    {
      "cell_type": "code",
      "source": [
        "string = 'kaanvardar'\n",
        "string[1:3] #start from 1st index include it, dont include last index (3)"
      ],
      "metadata": {
        "colab": {
          "base_uri": "https://localhost:8080/",
          "height": 35
        },
        "id": "iXh45pK58-24",
        "outputId": "e137fd60-6bc5-47ae-89c8-fe0e8f195469"
      },
      "execution_count": null,
      "outputs": [
        {
          "output_type": "execute_result",
          "data": {
            "text/plain": [
              "'aa'"
            ],
            "application/vnd.google.colaboratory.intrinsic+json": {
              "type": "string"
            }
          },
          "metadata": {},
          "execution_count": 24
        }
      ]
    },
    {
      "cell_type": "code",
      "source": [
        "string = 'kaanvardar'\n",
        "string[10:0:-2] #10dan geriye -2 azalarak git"
      ],
      "metadata": {
        "colab": {
          "base_uri": "https://localhost:8080/",
          "height": 35
        },
        "id": "zxfyaoUG9g8J",
        "outputId": "14bede1c-d029-4956-cdd8-ed2cafde907a"
      },
      "execution_count": null,
      "outputs": [
        {
          "output_type": "execute_result",
          "data": {
            "text/plain": [
              "'rdana'"
            ],
            "application/vnd.google.colaboratory.intrinsic+json": {
              "type": "string"
            }
          },
          "metadata": {},
          "execution_count": 25
        }
      ]
    },
    {
      "cell_type": "code",
      "source": [
        "string = \"kaanvardar\"\n",
        "string[::2]"
      ],
      "metadata": {
        "colab": {
          "base_uri": "https://localhost:8080/",
          "height": 35
        },
        "id": "X9kX2IV3-QwM",
        "outputId": "d4ca8320-f422-4cd2-bc39-7c3ddd8e4d47"
      },
      "execution_count": null,
      "outputs": [
        {
          "output_type": "execute_result",
          "data": {
            "text/plain": [
              "'ka'"
            ],
            "application/vnd.google.colaboratory.intrinsic+json": {
              "type": "string"
            }
          },
          "metadata": {},
          "execution_count": 27
        }
      ]
    },
    {
      "cell_type": "code",
      "source": [
        "x = int(input(\"enter a number: \"))\n",
        "\n",
        "if(x % 3 == 0) and (x % 2 ==  0):   #ikiside TRUE olursa bu if bloğu çalışır(and)\n",
        "  print(\"number can divide 3 also 2\")\n",
        "else:\n",
        "   print(\"end\")"
      ],
      "metadata": {
        "colab": {
          "base_uri": "https://localhost:8080/"
        },
        "id": "qee9BOZMBxsA",
        "outputId": "5f8e6e82-5b9a-49fa-b0a3-b51ab8926549"
      },
      "execution_count": null,
      "outputs": [
        {
          "output_type": "stream",
          "name": "stdout",
          "text": [
            "enter a number: 8\n",
            "end\n"
          ]
        }
      ]
    },
    {
      "cell_type": "code",
      "source": [
        "x = int(input(\"enter a number: \"))\n",
        "\n",
        "if(x % 3 == 0) & (x % 2 ==  0):   #ikiside TRUE olursa bu if bloğu çalışır(&)\n",
        "  print(\"number can divide 3 also 2\")\n",
        "else:\n",
        "   print(\"end\")"
      ],
      "metadata": {
        "colab": {
          "base_uri": "https://localhost:8080/"
        },
        "id": "-ktA4czjCcGk",
        "outputId": "e40a10da-cf4d-4576-bc83-1ccf0e89cc69"
      },
      "execution_count": null,
      "outputs": [
        {
          "output_type": "stream",
          "name": "stdout",
          "text": [
            "enter a number: 8\n",
            "end\n"
          ]
        }
      ]
    },
    {
      "cell_type": "code",
      "source": [
        "x = 0\n",
        "\n",
        "while x<7:\n",
        "  x = x + 1\n",
        "  print(x)\n",
        "\n"
      ],
      "metadata": {
        "colab": {
          "base_uri": "https://localhost:8080/"
        },
        "id": "s-E6QB2hC-2x",
        "outputId": "e3ed6697-3bae-40e0-a6b5-c89089b3f026"
      },
      "execution_count": null,
      "outputs": [
        {
          "output_type": "stream",
          "name": "stdout",
          "text": [
            "1\n",
            "2\n",
            "3\n",
            "4\n",
            "5\n",
            "6\n",
            "7\n"
          ]
        }
      ]
    },
    {
      "cell_type": "code",
      "source": [
        "x = 0\n",
        "\n",
        "while x<7:\n",
        "  x += 1\n",
        "  print(x)\n",
        "\n"
      ],
      "metadata": {
        "colab": {
          "base_uri": "https://localhost:8080/"
        },
        "id": "8KK7_0VvDX6Y",
        "outputId": "349495e2-8448-4cd2-9c1d-5be9fcf0314e"
      },
      "execution_count": null,
      "outputs": [
        {
          "output_type": "stream",
          "name": "stdout",
          "text": [
            "1\n",
            "2\n",
            "3\n",
            "4\n",
            "5\n",
            "6\n",
            "7\n"
          ]
        }
      ]
    },
    {
      "cell_type": "code",
      "source": [
        "for i in \"hey\": #hey 3 elemenali oldugu icin 3 kere gerceklesir\n",
        "                # 1. iter c = \"h\"\n",
        "                # 2. iter c = \"e\"\n",
        "                # 3. iter c = \"y\"\n",
        "    print(i)"
      ],
      "metadata": {
        "colab": {
          "base_uri": "https://localhost:8080/"
        },
        "id": "FnGOmLxaEFyH",
        "outputId": "71f07e8c-de1c-4b84-a858-9508aee50369"
      },
      "execution_count": null,
      "outputs": [
        {
          "output_type": "stream",
          "name": "stdout",
          "text": [
            "h\n",
            "e\n",
            "y\n"
          ]
        }
      ]
    },
    {
      "cell_type": "code",
      "source": [
        "sum = 0\n",
        "\n",
        "for i in range(100):\n",
        "  sum += i\n",
        "\n",
        "print(\"total iteration count: \" ,i)\n",
        "print(\"total sum: \" , sum)"
      ],
      "metadata": {
        "colab": {
          "base_uri": "https://localhost:8080/"
        },
        "id": "ha0Ws2MWElYO",
        "outputId": "9504aac1-95a1-4ec3-cd5c-6026d694dabb"
      },
      "execution_count": null,
      "outputs": [
        {
          "output_type": "stream",
          "name": "stdout",
          "text": [
            "total iteration count:  99\n",
            "total sum:  4950\n"
          ]
        }
      ]
    },
    {
      "cell_type": "markdown",
      "source": [
        "**WHILE AND FOR DIFFERENCES**"
      ],
      "metadata": {
        "id": "D1N0iPelGVsT"
      }
    },
    {
      "cell_type": "code",
      "source": [
        "string = \"hey\"\n",
        "\n",
        "for i in \"hey\":\n",
        "  print(i)"
      ],
      "metadata": {
        "colab": {
          "base_uri": "https://localhost:8080/"
        },
        "id": "-LDoM3QHGZlw",
        "outputId": "bc020ac4-0113-441d-c2b2-bc1e9fa5d53b"
      },
      "execution_count": null,
      "outputs": [
        {
          "output_type": "stream",
          "name": "stdout",
          "text": [
            "h\n",
            "e\n",
            "y\n"
          ]
        }
      ]
    },
    {
      "cell_type": "code",
      "source": [
        "string = \"hey\"\n",
        "i = 0\n",
        "\n",
        "while i < len(string):\n",
        "  i += 1\n",
        "  print(i)\n",
        "\n"
      ],
      "metadata": {
        "colab": {
          "base_uri": "https://localhost:8080/"
        },
        "id": "rjs8IwIPGjDh",
        "outputId": "b40a6d60-120e-4d01-ccc6-5e657c288ab0"
      },
      "execution_count": null,
      "outputs": [
        {
          "output_type": "stream",
          "name": "stdout",
          "text": [
            "1\n",
            "2\n",
            "3\n"
          ]
        }
      ]
    },
    {
      "cell_type": "markdown",
      "source": [
        "**---------------------------------------------------------------------------**\n"
      ],
      "metadata": {
        "id": "a32XU5ZKhzOR"
      }
    },
    {
      "cell_type": "markdown",
      "source": [
        "**MEDIUM-HARD TOPICS**\n"
      ],
      "metadata": {
        "id": "wDDbfb8mhoKc"
      }
    },
    {
      "cell_type": "code",
      "source": [
        "notes = [1,2,3,4,5]\n",
        "notes[3]"
      ],
      "metadata": {
        "colab": {
          "base_uri": "https://localhost:8080/"
        },
        "id": "pXiTKk-ggpPG",
        "outputId": "9abe04b4-8ddb-4402-cc17-6c042d64255c"
      },
      "execution_count": 1,
      "outputs": [
        {
          "output_type": "execute_result",
          "data": {
            "text/plain": [
              "4"
            ]
          },
          "metadata": {},
          "execution_count": 1
        }
      ]
    },
    {
      "cell_type": "code",
      "source": [
        "list = [1,2,\"a\",\"b\",True, 4.5, [9,0,6]] #mix type degerleri tutabiliriz"
      ],
      "metadata": {
        "id": "9b6OaTmChJhS"
      },
      "execution_count": null,
      "outputs": []
    },
    {
      "cell_type": "code",
      "source": [
        "notes = [1,2,3,4,7,6,8]\n",
        "notes[0] += 10\n",
        "print(notes[0])"
      ],
      "metadata": {
        "colab": {
          "base_uri": "https://localhost:8080/"
        },
        "id": "C0rPZUKvhl6o",
        "outputId": "799eedd7-da5c-4bd1-9a00-339aec8f22e9"
      },
      "execution_count": 9,
      "outputs": [
        {
          "output_type": "stream",
          "name": "stdout",
          "text": [
            "11\n"
          ]
        }
      ]
    },
    {
      "cell_type": "code",
      "source": [
        "len(notes)"
      ],
      "metadata": {
        "colab": {
          "base_uri": "https://localhost:8080/"
        },
        "id": "hSjxkZbuh3Eo",
        "outputId": "6dab7c11-0fe7-4b04-808e-fa2e4c532beb"
      },
      "execution_count": 7,
      "outputs": [
        {
          "output_type": "execute_result",
          "data": {
            "text/plain": [
              "7"
            ]
          },
          "metadata": {},
          "execution_count": 7
        }
      ]
    },
    {
      "cell_type": "code",
      "source": [
        "notes.append(99)  #listenin sonuna ekler\n",
        "print(notes)"
      ],
      "metadata": {
        "colab": {
          "base_uri": "https://localhost:8080/"
        },
        "id": "L71J42pCixYQ",
        "outputId": "6f23cf23-8951-4137-f192-b4db26b173dc"
      },
      "execution_count": 10,
      "outputs": [
        {
          "output_type": "stream",
          "name": "stdout",
          "text": [
            "[11, 2, 3, 4, 7, 6, 8, 99]\n"
          ]
        }
      ]
    },
    {
      "cell_type": "code",
      "source": [
        "notes.extend([88,77,66])  #listenin sonuna birden fazla eleman ekler\n",
        "print(notes)"
      ],
      "metadata": {
        "colab": {
          "base_uri": "https://localhost:8080/"
        },
        "id": "7FNkUnCJjBcb",
        "outputId": "21c80f44-8e92-4e74-a212-a29d3b60d62d"
      },
      "execution_count": 11,
      "outputs": [
        {
          "output_type": "stream",
          "name": "stdout",
          "text": [
            "[11, 2, 3, 4, 7, 6, 8, 99, 88, 77, 66]\n"
          ]
        }
      ]
    },
    {
      "cell_type": "code",
      "source": [
        "notes.insert(3,44)        #3. indexe 44 ekle demek fakat shift right yapar SİLMEZ!\n",
        "print(notes)\n",
        "print(notes[3])"
      ],
      "metadata": {
        "colab": {
          "base_uri": "https://localhost:8080/"
        },
        "id": "i5X6AbmtjNsQ",
        "outputId": "b2e62d18-31c3-4630-f5f3-03dcd0669d3d"
      },
      "execution_count": 15,
      "outputs": [
        {
          "output_type": "stream",
          "name": "stdout",
          "text": [
            "[11, 2, 44, 44, 4, 7, 6, 8, 99, 88, 77, 66]\n",
            "44\n"
          ]
        }
      ]
    },
    {
      "cell_type": "code",
      "source": [
        "notes.remove(2)           #index değil '2' değerini siler\n",
        "print(notes)"
      ],
      "metadata": {
        "colab": {
          "base_uri": "https://localhost:8080/"
        },
        "id": "jlm0HcImjcNt",
        "outputId": "d1fc7c1f-5676-45ea-8b9e-88ead36ef34e"
      },
      "execution_count": 17,
      "outputs": [
        {
          "output_type": "stream",
          "name": "stdout",
          "text": [
            "[11, 44, 44, 4, 7, 6, 8, 99, 88, 77, 66]\n"
          ]
        }
      ]
    },
    {
      "cell_type": "code",
      "source": [
        "notes.count(44)         #'44' listede kaç tane var"
      ],
      "metadata": {
        "colab": {
          "base_uri": "https://localhost:8080/"
        },
        "id": "8egUyWYrj_5x",
        "outputId": "5b38a13d-28fa-4614-c96d-782d2cd2df7b"
      },
      "execution_count": 18,
      "outputs": [
        {
          "output_type": "execute_result",
          "data": {
            "text/plain": [
              "2"
            ]
          },
          "metadata": {},
          "execution_count": 18
        }
      ]
    },
    {
      "cell_type": "code",
      "source": [
        "a = 2\n",
        "b = a       #b=2 oluyor fakat b'nin degeri güncellenmiyor. a'nin degerini güncelleniyor o nedenle b ayni kaliyor."
      ],
      "metadata": {
        "id": "QcBkwuKvkg9N"
      },
      "execution_count": 31,
      "outputs": []
    },
    {
      "cell_type": "code",
      "source": [
        "b"
      ],
      "metadata": {
        "colab": {
          "base_uri": "https://localhost:8080/"
        },
        "id": "CVEdqAtXlFVn",
        "outputId": "6c56559a-6cd1-41b6-bc8a-d10e8b09dd8e"
      },
      "execution_count": 32,
      "outputs": [
        {
          "output_type": "execute_result",
          "data": {
            "text/plain": [
              "2"
            ]
          },
          "metadata": {},
          "execution_count": 32
        }
      ]
    },
    {
      "cell_type": "code",
      "source": [
        "a"
      ],
      "metadata": {
        "colab": {
          "base_uri": "https://localhost:8080/"
        },
        "id": "p4JRZS3ClHPv",
        "outputId": "632677e9-6ae7-461b-b99a-dfae26af8a5a"
      },
      "execution_count": 33,
      "outputs": [
        {
          "output_type": "execute_result",
          "data": {
            "text/plain": [
              "2"
            ]
          },
          "metadata": {},
          "execution_count": 33
        }
      ]
    },
    {
      "cell_type": "code",
      "source": [
        "a = a + 1"
      ],
      "metadata": {
        "id": "wWSiwOxolIPR"
      },
      "execution_count": 34,
      "outputs": []
    },
    {
      "cell_type": "code",
      "source": [
        "a"
      ],
      "metadata": {
        "colab": {
          "base_uri": "https://localhost:8080/"
        },
        "id": "bf_zMxO6lMEW",
        "outputId": "4d22f050-f934-4eaf-c489-1b489e02da40"
      },
      "execution_count": 35,
      "outputs": [
        {
          "output_type": "execute_result",
          "data": {
            "text/plain": [
              "3"
            ]
          },
          "metadata": {},
          "execution_count": 35
        }
      ]
    },
    {
      "cell_type": "code",
      "source": [
        "b"
      ],
      "metadata": {
        "colab": {
          "base_uri": "https://localhost:8080/"
        },
        "id": "PYcHCXsZlM1T",
        "outputId": "09e1d719-a48a-42b0-8e50-c8c4d4ef502f"
      },
      "execution_count": 36,
      "outputs": [
        {
          "output_type": "execute_result",
          "data": {
            "text/plain": [
              "2"
            ]
          },
          "metadata": {},
          "execution_count": 36
        }
      ]
    },
    {
      "cell_type": "code",
      "source": [
        "arr = [1,2,3]\n",
        "arr2 = arr.copy()\n",
        "\n",
        "print(arr)\n",
        "print(arr2)"
      ],
      "metadata": {
        "colab": {
          "base_uri": "https://localhost:8080/"
        },
        "id": "6ojJH-VJmKHe",
        "outputId": "e2d3e369-dec9-4ae3-be9d-7c02d88af14b"
      },
      "execution_count": 38,
      "outputs": [
        {
          "output_type": "stream",
          "name": "stdout",
          "text": [
            "[1, 2, 3]\n",
            "[1, 2, 3]\n"
          ]
        }
      ]
    },
    {
      "cell_type": "code",
      "source": [
        "arr + arr2      #array concetanation"
      ],
      "metadata": {
        "colab": {
          "base_uri": "https://localhost:8080/"
        },
        "id": "ktbaJ_iPmcWL",
        "outputId": "de2a2aed-85a9-44b0-c1a9-df86c6e7ec68"
      },
      "execution_count": 39,
      "outputs": [
        {
          "output_type": "execute_result",
          "data": {
            "text/plain": [
              "[1, 2, 3, 1, 2, 3]"
            ]
          },
          "metadata": {},
          "execution_count": 39
        }
      ]
    }
  ]
}